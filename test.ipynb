{
 "cells": [
  {
   "cell_type": "code",
   "execution_count": null,
   "metadata": {},
   "outputs": [],
   "source": []
  },
  {
   "cell_type": "code",
   "execution_count": 1,
   "metadata": {},
   "outputs": [
    {
     "ename": "NameError",
     "evalue": "name 'ImmutableMultiDict' is not defined",
     "output_type": "error",
     "traceback": [
      "\u001b[0;31m---------------------------------------------------------------------------\u001b[0m",
      "\u001b[0;31mNameError\u001b[0m                                 Traceback (most recent call last)",
      "\u001b[0;32m/tmp/ipykernel_452336/3086846143.py\u001b[0m in \u001b[0;36m<module>\u001b[0;34m\u001b[0m\n\u001b[0;32m----> 1\u001b[0;31m \u001b[0mImmutableMultiDict\u001b[0m\u001b[0;34m(\u001b[0m\u001b[0;34m[\u001b[0m\u001b[0;34m(\u001b[0m\u001b[0;34m'alpaca_name'\u001b[0m\u001b[0;34m,\u001b[0m \u001b[0;34m'0'\u001b[0m\u001b[0;34m)\u001b[0m\u001b[0;34m,\u001b[0m \u001b[0;34m(\u001b[0m\u001b[0;34m'training'\u001b[0m\u001b[0;34m,\u001b[0m \u001b[0;34m'0'\u001b[0m\u001b[0;34m)\u001b[0m\u001b[0;34m,\u001b[0m \u001b[0;34m(\u001b[0m\u001b[0;34m'date'\u001b[0m\u001b[0;34m,\u001b[0m \u001b[0;34m'0'\u001b[0m\u001b[0;34m)\u001b[0m\u001b[0;34m,\u001b[0m \u001b[0;34m(\u001b[0m\u001b[0;34m'date'\u001b[0m\u001b[0;34m,\u001b[0m \u001b[0;34m'0'\u001b[0m\u001b[0;34m)\u001b[0m\u001b[0;34m,\u001b[0m \u001b[0;34m(\u001b[0m\u001b[0;34m'date'\u001b[0m\u001b[0;34m,\u001b[0m \u001b[0;34m'0'\u001b[0m\u001b[0;34m)\u001b[0m\u001b[0;34m,\u001b[0m \u001b[0;34m(\u001b[0m\u001b[0;34m'date'\u001b[0m\u001b[0;34m,\u001b[0m \u001b[0;34m'0'\u001b[0m\u001b[0;34m)\u001b[0m\u001b[0;34m,\u001b[0m \u001b[0;34m(\u001b[0m\u001b[0;34m'date'\u001b[0m\u001b[0;34m,\u001b[0m \u001b[0;34m'0'\u001b[0m\u001b[0;34m)\u001b[0m\u001b[0;34m,\u001b[0m \u001b[0;34m(\u001b[0m\u001b[0;34m'date'\u001b[0m\u001b[0;34m,\u001b[0m \u001b[0;34m'0'\u001b[0m\u001b[0;34m)\u001b[0m\u001b[0;34m,\u001b[0m \u001b[0;34m(\u001b[0m\u001b[0;34m'date'\u001b[0m\u001b[0;34m,\u001b[0m \u001b[0;34m'0'\u001b[0m\u001b[0;34m)\u001b[0m\u001b[0;34m,\u001b[0m \u001b[0;34m(\u001b[0m\u001b[0;34m'date'\u001b[0m\u001b[0;34m,\u001b[0m \u001b[0;34m'0'\u001b[0m\u001b[0;34m)\u001b[0m\u001b[0;34m,\u001b[0m \u001b[0;34m(\u001b[0m\u001b[0;34m'date'\u001b[0m\u001b[0;34m,\u001b[0m \u001b[0;34m'0'\u001b[0m\u001b[0;34m)\u001b[0m\u001b[0;34m]\u001b[0m\u001b[0;34m)\u001b[0m\u001b[0;34m\u001b[0m\u001b[0;34m\u001b[0m\u001b[0m\n\u001b[0m",
      "\u001b[0;31mNameError\u001b[0m: name 'ImmutableMultiDict' is not defined"
     ]
    }
   ],
   "source": [
    "ImmutableMultiDict([('alpaca_name', '0'), ('training', '0'), ('date', '0'), ('date', '0'), ('date', '0'), ('date', '0'), ('date', '0'), ('date', '0'), ('date', '0'), ('date', '0'), ('date', '0')])"
   ]
  },
  {
   "cell_type": "code",
   "execution_count": 2,
   "metadata": {},
   "outputs": [],
   "source": [
    "\n",
    "from flask import Flask, request, render_template, url_for, redirect, flash\n",
    "from flask_restful import Resource, Api\n",
    "from flask_login import LoginManager, UserMixin, login_user, logout_user, login_required, current_user\n",
    "import requests, json, glob, time\n",
    "#import pandas as pd\n",
    "import numpy as np\n",
    "from backend.user import *\n",
    "from backend.course import get_dict_course,check_repeat_course,trans_course\n",
    "from backend.question import *\n",
    "import pymysql\n",
    "conn = pymysql.connect(host = '127.0.0.1',\n",
    "                       port = 3306,\n",
    "                       user = 'qsweb',\n",
    "                       passwd = '000000',\n",
    "                       db = 'question_system',\n",
    "                       charset='utf8')"
   ]
  },
  {
   "cell_type": "code",
   "execution_count": 2,
   "metadata": {},
   "outputs": [],
   "source": [
    "cur = conn.cursor()\n",
    "\n",
    "# get annual sales rank\n",
    "sql = \"select * from users\"\n",
    "cur.execute(sql)\n",
    "content = cur.fetchall()\n",
    "\n",
    "# 獲取表頭\n",
    "sql = \"SHOW FIELDS FROM users\"\n",
    "cur.execute(sql)\n",
    "labels = cur.fetchall()\n",
    "labels = [l[0] for l in labels]"
   ]
  },
  {
   "cell_type": "code",
   "execution_count": 5,
   "metadata": {},
   "outputs": [
    {
     "data": {
      "text/plain": [
       "((35,\n",
       "  '0000',\n",
       "  'test_name',\n",
       "  'test_school',\n",
       "  'test_class',\n",
       "  'test_id0',\n",
       "  'a@b.c',\n",
       "  'student',\n",
       "  'test_nickname'),\n",
       " (36,\n",
       "  '0000',\n",
       "  'test_name',\n",
       "  'test_school',\n",
       "  'test_class',\n",
       "  'test_idstudent0',\n",
       "  'a@b.c',\n",
       "  'student',\n",
       "  'tst_nickname'),\n",
       " (37,\n",
       "  '111',\n",
       "  'test_name',\n",
       "  'test_school',\n",
       "  'test_class',\n",
       "  'test_id0teacher',\n",
       "  'a@b.c',\n",
       "  'teacher',\n",
       "  'tst_nickname'),\n",
       " (38,\n",
       "  '0000',\n",
       "  'test_name',\n",
       "  'test_schoo',\n",
       "  'test_class',\n",
       "  'test_id0',\n",
       "  'yf.jeff.liu@gmail.com',\n",
       "  'student',\n",
       "  'tst_nickname'),\n",
       " (39,\n",
       "  '0000',\n",
       "  'test_name',\n",
       "  'test_school',\n",
       "  'test_classs',\n",
       "  'test_id0',\n",
       "  'yf.jeff.liu@gmail.com',\n",
       "  'student',\n",
       "  'tst_nickname'))"
      ]
     },
     "execution_count": 5,
     "metadata": {},
     "output_type": "execute_result"
    }
   ],
   "source": [
    "content"
   ]
  },
  {
   "cell_type": "code",
   "execution_count": 4,
   "metadata": {},
   "outputs": [
    {
     "data": {
      "text/plain": [
       "['id',\n",
       " 'passwd',\n",
       " 'name',\n",
       " 'school',\n",
       " 'class',\n",
       " 'student_id',\n",
       " 'email',\n",
       " 'permission',\n",
       " 'nickname']"
      ]
     },
     "execution_count": 4,
     "metadata": {},
     "output_type": "execute_result"
    }
   ],
   "source": [
    "labels"
   ]
  },
  {
   "cell_type": "code",
   "execution_count": 17,
   "metadata": {},
   "outputs": [],
   "source": [
    "conn = pymysql.connect(host = '127.0.0.1',\n",
    "                       port = 3306,\n",
    "                       user = 'qsweb',\n",
    "                       passwd = '000000',\n",
    "                       db = 'question_system',\n",
    "                       charset='utf8')\n",
    "cur = conn.cursor()\n",
    "sql = \"select * from guidance\"\n",
    "cur.execute(sql)\n",
    "content = cur.fetchall()\n",
    "dict = {}\n",
    "for data in content:\n",
    "    #print(data)\n",
    "    dict[data[6]] = {'EN_description':data[0],'CN_description':data[1],'EN_example':data[2],'CN_example':data[3],'course_id':data[4],'status':data[5],'guidance_id':data[6]}"
   ]
  },
  {
   "cell_type": "code",
   "execution_count": 18,
   "metadata": {},
   "outputs": [
    {
     "data": {
      "text/plain": [
       "{'EN_description': 'EN_description',\n",
       " 'CN_description': 'CN_description',\n",
       " 'EN_example': 'EN_example',\n",
       " 'CN_example': 'CN_example',\n",
       " 'course_id': 7,\n",
       " 'status': 0,\n",
       " 'guidance_id': 1}"
      ]
     },
     "execution_count": 18,
     "metadata": {},
     "output_type": "execute_result"
    }
   ],
   "source": [
    "dict[1]"
   ]
  },
  {
   "cell_type": "code",
   "execution_count": 3,
   "metadata": {},
   "outputs": [
    {
     "ename": "TypeError",
     "evalue": "'type' object is not iterable",
     "output_type": "error",
     "traceback": [
      "\u001b[0;31m---------------------------------------------------------------------------\u001b[0m",
      "\u001b[0;31mTypeError\u001b[0m                                 Traceback (most recent call last)",
      "\u001b[0;32m/tmp/ipykernel_77986/1132644913.py\u001b[0m in \u001b[0;36m<module>\u001b[0;34m\u001b[0m\n\u001b[0;32m----> 1\u001b[0;31m \u001b[0;32mfor\u001b[0m \u001b[0ma\u001b[0m \u001b[0;32min\u001b[0m \u001b[0mdict\u001b[0m\u001b[0;34m:\u001b[0m\u001b[0;34m\u001b[0m\u001b[0;34m\u001b[0m\u001b[0m\n\u001b[0m\u001b[1;32m      2\u001b[0m     \u001b[0mprint\u001b[0m\u001b[0;34m(\u001b[0m\u001b[0mdict\u001b[0m\u001b[0;34m[\u001b[0m\u001b[0ma\u001b[0m\u001b[0;34m]\u001b[0m\u001b[0;34m)\u001b[0m\u001b[0;34m\u001b[0m\u001b[0;34m\u001b[0m\u001b[0m\n",
      "\u001b[0;31mTypeError\u001b[0m: 'type' object is not iterable"
     ]
    }
   ],
   "source": [
    "for a in dict:\n",
    "    print(dict[a])"
   ]
  },
  {
   "cell_type": "code",
   "execution_count": 4,
   "metadata": {},
   "outputs": [],
   "source": [
    "conn = pymysql.connect(host = '127.0.0.1',\n",
    "                       port = 3306,\n",
    "                       user = 'qsweb',\n",
    "                       passwd = '000000',\n",
    "                       db = 'question_system',\n",
    "                       charset='utf8')\n",
    "    # cur = conn.cursor()\n",
    "    "
   ]
  },
  {
   "cell_type": "code",
   "execution_count": 6,
   "metadata": {},
   "outputs": [],
   "source": [
    "cursor = conn.cursor()\n",
    "    ## 還原圖片\n",
    "\n",
    "into = \"SELECT * FROM `question` WHERE `id` = 14\"\n",
    "    \n",
    "cursor.execute(into)\n",
    "content = cursor.fetchall()\n"
   ]
  },
  {
   "cell_type": "code",
   "execution_count": null,
   "metadata": {},
   "outputs": [],
   "source": [
    "content[0][4]"
   ]
  },
  {
   "cell_type": "code",
   "execution_count": 16,
   "metadata": {},
   "outputs": [
    {
     "name": "stderr",
     "output_type": "stream",
     "text": [
      "/home/eric/anaconda3/envs/py37_flask/lib/python3.7/site-packages/ipykernel_launcher.py:3: DeprecationWarning: The binary mode of fromstring is deprecated, as it behaves surprisingly on unicode inputs. Use frombuffer instead\n",
      "  This is separate from the ipykernel package so we can avoid doing imports until\n"
     ]
    },
    {
     "ename": "error",
     "evalue": "OpenCV(4.6.0) /io/opencv/modules/imgcodecs/src/loadsave.cpp:801: error: (-215:Assertion failed) !_img.empty() in function 'imwrite'\n",
     "output_type": "error",
     "traceback": [
      "\u001b[0;31m---------------------------------------------------------------------------\u001b[0m",
      "\u001b[0;31merror\u001b[0m                                     Traceback (most recent call last)",
      "\u001b[0;32m/tmp/ipykernel_77986/2714845826.py\u001b[0m in \u001b[0;36m<module>\u001b[0;34m\u001b[0m\n\u001b[1;32m      4\u001b[0m \u001b[0mimg\u001b[0m \u001b[0;34m=\u001b[0m \u001b[0mcv2\u001b[0m\u001b[0;34m.\u001b[0m\u001b[0mimdecode\u001b[0m\u001b[0;34m(\u001b[0m\u001b[0mnpimg\u001b[0m\u001b[0;34m,\u001b[0m \u001b[0mcv2\u001b[0m\u001b[0;34m.\u001b[0m\u001b[0mIMREAD_COLOR\u001b[0m\u001b[0;34m)\u001b[0m\u001b[0;34m\u001b[0m\u001b[0;34m\u001b[0m\u001b[0m\n\u001b[1;32m      5\u001b[0m \u001b[0;31m# cv2.imshow('URL2Image',img)\u001b[0m\u001b[0;34m\u001b[0m\u001b[0;34m\u001b[0m\u001b[0;34m\u001b[0m\u001b[0m\n\u001b[0;32m----> 6\u001b[0;31m \u001b[0mcv2\u001b[0m\u001b[0;34m.\u001b[0m\u001b[0mimwrite\u001b[0m\u001b[0;34m(\u001b[0m\u001b[0;34m'123.jpg'\u001b[0m\u001b[0;34m,\u001b[0m\u001b[0mimg\u001b[0m\u001b[0;34m)\u001b[0m\u001b[0;34m\u001b[0m\u001b[0;34m\u001b[0m\u001b[0m\n\u001b[0m\u001b[1;32m      7\u001b[0m \u001b[0;31m# cv2.waitKey()\u001b[0m\u001b[0;34m\u001b[0m\u001b[0;34m\u001b[0m\u001b[0;34m\u001b[0m\u001b[0m\n",
      "\u001b[0;31merror\u001b[0m: OpenCV(4.6.0) /io/opencv/modules/imgcodecs/src/loadsave.cpp:801: error: (-215:Assertion failed) !_img.empty() in function 'imwrite'\n"
     ]
    }
   ],
   "source": [
    "# pic = content[0][4]\n",
    "# picstr = pic['image'].read()\n",
    "npimg = np.fromstring(content[0][4], np.uint8)\n",
    "img = cv2.imdecode(npimg, cv2.IMREAD_COLOR)\n",
    "# cv2.imshow('URL2Image',img)   \n",
    "cv2.imwrite('123.jpg',img)\n",
    "# cv2.waitKey()"
   ]
  },
  {
   "cell_type": "code",
   "execution_count": 19,
   "metadata": {},
   "outputs": [
    {
     "name": "stderr",
     "output_type": "stream",
     "text": [
      "/home/eric/anaconda3/envs/py37_flask/lib/python3.7/site-packages/ipykernel_launcher.py:1: DeprecationWarning: The binary mode of fromstring is deprecated, as it behaves surprisingly on unicode inputs. Use frombuffer instead\n",
      "  \"\"\"Entry point for launching an IPython kernel.\n"
     ]
    },
    {
     "data": {
      "text/plain": [
       "array([98, 39, 92, ..., 56, 50, 39], dtype=uint8)"
      ]
     },
     "execution_count": 19,
     "metadata": {},
     "output_type": "execute_result"
    }
   ],
   "source": [
    "np.fromstring(content[0][4], np.uint8)"
   ]
  },
  {
   "cell_type": "code",
   "execution_count": 23,
   "metadata": {},
   "outputs": [],
   "source": [
    "cv2.imdecode(npimg, cv2.IMREAD_COLOR)"
   ]
  },
  {
   "cell_type": "code",
   "execution_count": 21,
   "metadata": {},
   "outputs": [],
   "source": [
    "img = cv2.imdecode(npimg, cv2.IMREAD_COLOR)"
   ]
  },
  {
   "cell_type": "code",
   "execution_count": 22,
   "metadata": {},
   "outputs": [],
   "source": [
    "img"
   ]
  },
  {
   "cell_type": "code",
   "execution_count": 24,
   "metadata": {},
   "outputs": [],
   "source": [
    "import base64"
   ]
  },
  {
   "cell_type": "code",
   "execution_count": null,
   "metadata": {},
   "outputs": [],
   "source": []
  },
  {
   "cell_type": "code",
   "execution_count": 28,
   "metadata": {},
   "outputs": [
    {
     "data": {
      "text/plain": [
       "b'<\\xd1\\x88\\x1c4f\\x1c\\xf2\\xd3\\x12V\\xe6iOp\\x85\\x02\\'r;\\xe9$\\x1e2\\xcb,\\xd9A\\xa0a\\x8a\\x8b\\x8aq\\xfb\\xaa\\x8d{\\x8c0\\xce8\\xe3\\xde\\x8fI\\xb7l~6\\x8f`\\xe2\\xfa\\x0cp}(\\x8f]me\\x12\\x07\\xf4\\x7fE\\xf4\\x85\\xd3RW\\x03\\xee\\xfc\\xe4\\x82P\\xe3\\xcfH\\x0c\\x04\\xf1\"V\\xdf\\xbb\\xbc\\xf0bs\\xcc\\xbf\\x1cwPn'"
      ]
     },
     "execution_count": 28,
     "metadata": {},
     "output_type": "execute_result"
    }
   ],
   "source": [
    "decoded_data"
   ]
  },
  {
   "cell_type": "code",
   "execution_count": 1,
   "metadata": {},
   "outputs": [
    {
     "name": "stdout",
     "output_type": "stream",
     "text": [
      "<class 'list'>\n"
     ]
    }
   ],
   "source": [
    "a = []\n",
    "print(type(a))"
   ]
  },
  {
   "cell_type": "code",
   "execution_count": 61,
   "metadata": {},
   "outputs": [
    {
     "name": "stdout",
     "output_type": "stream",
     "text": [
      "\t 1\t 2\t 3\t 4\t 5\t 6\t 7\t 8\t 9\n",
      "\t 2\t 4\t 6\t 8\t 10\t 12\t 14\t 16\t 18\n",
      "\t 3\t 6\t 9\t 12\t 15\t 18\t 21\t 24\t 27\n",
      "\t 4\t 8\t 12\t 16\t 20\t 24\t 28\t 32\t 36\n",
      "\t 5\t 10\t 15\t 20\t 25\t 30\t 35\t 40\t 45\n",
      "\t 6\t 12\t 18\t 24\t 30\t 36\t 42\t 48\t 54\n",
      "\t 7\t 14\t 21\t 28\t 35\t 42\t 49\t 56\t 63\n",
      "\t 8\t 16\t 24\t 32\t 40\t 48\t 56\t 64\t 72\n",
      "\t 9\t 18\t 27\t 36\t 45\t 54\t 63\t 72\t 81\n"
     ]
    }
   ],
   "source": [
    "for i in range(1, 10):\n",
    "    for j in range(1, 10):\n",
    "        if j == 9:\n",
    "            print(\"\\t\", i*j) # j == 9時，換行\n",
    "        else:\n",
    "            print(\"\\t\", i*j, end = '') # j < 9時，不換行"
   ]
  },
  {
   "cell_type": "code",
   "execution_count": 58,
   "metadata": {},
   "outputs": [
    {
     "name": "stdout",
     "output_type": "stream",
     "text": [
      "1\t\n",
      "2\t4\t\n",
      "3\t6\t9\t\n",
      "4\t8\t12\t16\t\n",
      "5\t10\t15\t20\t25\t\n",
      "6\t12\t18\t24\t30\t36\t\n",
      "7\t14\t21\t28\t35\t42\t49\t\n",
      "8\t16\t24\t32\t40\t48\t56\t64\t\n",
      "9\t18\t27\t36\t45\t54\t63\t72\t81\t\n"
     ]
    }
   ],
   "source": [
    "i=1\n",
    "while i<10:\n",
    "    j=1\n",
    "    while j<=i:\n",
    "        print(str(j*i)+'\\t',end=\"\")\n",
    "        j+=1\n",
    "    print()\n",
    "    i+=1"
   ]
  },
  {
   "cell_type": "code",
   "execution_count": 51,
   "metadata": {},
   "outputs": [
    {
     "name": "stdout",
     "output_type": "stream",
     "text": [
      "1*1=1\t\n",
      "1*2=2\t2*2=4\t\n",
      "1*3=3\t2*3=6\t3*3=9\t\n",
      "1*4=4\t2*4=8\t3*4=12\t4*4=16\t\n",
      "1*5=5\t2*5=10\t3*5=15\t4*5=20\t5*5=25\t\n",
      "1*6=6\t2*6=12\t3*6=18\t4*6=24\t5*6=30\t6*6=36\t\n",
      "1*7=7\t2*7=14\t3*7=21\t4*7=28\t5*7=35\t6*7=42\t7*7=49\t\n",
      "1*8=8\t2*8=16\t3*8=24\t4*8=32\t5*8=40\t6*8=48\t7*8=56\t8*8=64\t\n",
      "1*9=9\t2*9=18\t3*9=27\t4*9=36\t5*9=45\t6*9=54\t7*9=63\t8*9=72\t9*9=81\t\n"
     ]
    }
   ],
   "source": [
    "i=1\n",
    "while i<10:\n",
    "    j=1\n",
    "    while j<=i:\n",
    "        print(\"%d*%d=%d\\t\"%(j,i,j*i),end=\"\")\n",
    "        j+=1\n",
    "    print()\n",
    "    i+=1"
   ]
  },
  {
   "cell_type": "code",
   "execution_count": 36,
   "metadata": {},
   "outputs": [
    {
     "name": "stdout",
     "output_type": "stream",
     "text": [
      "開始輸入A學生的成績，請依照 國文、英文、數學、自然、社會 的順序輸入:\n",
      "A學生成績:\n",
      "國文: 1、英文: 1、數學: 1、自然: 1、社會: 1\n",
      "\n",
      "開始輸入B學生的成績，請依照 國文、英文、數學、自然、社會 的順序輸入:\n",
      "B學生成績:\n",
      "國文: 245、英文: 245、數學: 452、自然: 452、社會: 254\n",
      "\n",
      "開始輸入C學生的成績，請依照 國文、英文、數學、自然、社會 的順序輸入:\n",
      "C學生成績:\n",
      "國文: 254、英文: 245、數學: 245、自然: 245、社會: 245\n",
      "\n",
      "A學生平均成績 :  1.0\n",
      "B學生平均成績 :  329.6\n",
      "C學生平均成績 :  246.8\n",
      "國文平均成績 : 100.0\n",
      "英文平均成績 : 98.2\n",
      "數學平均成績 : 139.6\n",
      "自然平均成績 : 139.6\n"
     ]
    },
    {
     "ename": "IndexError",
     "evalue": "list index out of range",
     "output_type": "error",
     "traceback": [
      "\u001b[0;31m---------------------------------------------------------------------------\u001b[0m",
      "\u001b[0;31mIndexError\u001b[0m                                Traceback (most recent call last)",
      "\u001b[0;32m/tmp/ipykernel_191072/643682626.py\u001b[0m in \u001b[0;36m<module>\u001b[0;34m\u001b[0m\n\u001b[1;32m     51\u001b[0m \u001b[0mprint\u001b[0m\u001b[0;34m(\u001b[0m\u001b[0;34m'數學平均成績 : '\u001b[0m\u001b[0;34m+\u001b[0m \u001b[0mstr\u001b[0m\u001b[0;34m(\u001b[0m\u001b[0mavg_list\u001b[0m\u001b[0;34m[\u001b[0m\u001b[0;36m2\u001b[0m\u001b[0;34m]\u001b[0m\u001b[0;34m)\u001b[0m\u001b[0;34m)\u001b[0m\u001b[0;34m\u001b[0m\u001b[0;34m\u001b[0m\u001b[0m\n\u001b[1;32m     52\u001b[0m \u001b[0mprint\u001b[0m\u001b[0;34m(\u001b[0m\u001b[0;34m'自然平均成績 : '\u001b[0m\u001b[0;34m+\u001b[0m \u001b[0mstr\u001b[0m\u001b[0;34m(\u001b[0m\u001b[0mavg_list\u001b[0m\u001b[0;34m[\u001b[0m\u001b[0;36m3\u001b[0m\u001b[0;34m]\u001b[0m\u001b[0;34m)\u001b[0m\u001b[0;34m)\u001b[0m\u001b[0;34m\u001b[0m\u001b[0;34m\u001b[0m\u001b[0m\n\u001b[0;32m---> 53\u001b[0;31m \u001b[0mprint\u001b[0m\u001b[0;34m(\u001b[0m\u001b[0;34m'社會平均成績 : '\u001b[0m\u001b[0;34m+\u001b[0m \u001b[0mstr\u001b[0m\u001b[0;34m(\u001b[0m\u001b[0mavg_list\u001b[0m\u001b[0;34m[\u001b[0m\u001b[0;36m5\u001b[0m\u001b[0;34m]\u001b[0m\u001b[0;34m)\u001b[0m\u001b[0;34m)\u001b[0m\u001b[0;34m\u001b[0m\u001b[0;34m\u001b[0m\u001b[0m\n\u001b[0m",
      "\u001b[0;31mIndexError\u001b[0m: list index out of range"
     ]
    }
   ],
   "source": [
    "a = []\n",
    "b = []\n",
    "c = []\n",
    "student_list = [a, b, c]\n",
    "print('開始輸入A學生的成績，請依照 國文、英文、數學、自然、社會 的順序輸入:')\n",
    "for i in range(5):\n",
    "    a.append(input())\n",
    "print('A學生成績:')\n",
    "print('國文: '+a[0]+'、英文: '+a[1]+'、數學: '+a[2]+'、自然: '+a[3]+'、社會: '+a[4]+'\\n')\n",
    "\n",
    "print('開始輸入B學生的成績，請依照 國文、英文、數學、自然、社會 的順序輸入:')\n",
    "for i in range(5):\n",
    "    b.append(input())\n",
    "print('B學生成績:')\n",
    "print('國文: '+b[0]+'、英文: '+b[1]+'、數學: '+b[2]+'、自然: '+b[3]+'、社會: '+b[4]+'\\n')\n",
    "\n",
    "print('開始輸入C學生的成績，請依照 國文、英文、數學、自然、社會 的順序輸入:')\n",
    "for i in range(5):\n",
    "    c.append(input())\n",
    "print('C學生成績:')\n",
    "print('國文: '+c[0]+'、英文: '+c[1]+'、數學: '+c[2]+'、自然: '+c[3]+'、社會: '+c[4]+'\\n')\n",
    "\n",
    "sum = 0\n",
    "for i in a:\n",
    "    sum = (int(i) + sum)\n",
    "    # print(int(i))\n",
    "    avg = sum / 5\n",
    "print('A學生平均成績 : ', avg)\n",
    "sum = 0\n",
    "for i in b:\n",
    "    sum = (int(i) + sum)\n",
    "    # print(int(i))\n",
    "    avg = sum / 5\n",
    "print('B學生平均成績 : ', avg)\n",
    "sum = 0\n",
    "for i in c:\n",
    "    sum = (int(i) + sum)\n",
    "    # print(int(i))\n",
    "    avg = sum / 5\n",
    "print('C學生平均成績 : ', avg)\n",
    "\n",
    "sum = 0\n",
    "avg_list = []\n",
    "for i in range(5):\n",
    "    sum = int(a[i])+int(b[i])+int(c[i])\n",
    "    avg = sum / 5\n",
    "    avg_list.append(avg)\n",
    "    # print('國文平均成績 : '+avg)\n",
    "print('國文平均成績 : '+ str(avg_list[0]))\n",
    "print('英文平均成績 : '+ str(avg_list[1]))\n",
    "print('數學平均成績 : '+ str(avg_list[2]))\n",
    "print('自然平均成績 : '+ str(avg_list[3]))\n",
    "print('社會平均成績 : '+ str(avg_list[4]))"
   ]
  },
  {
   "cell_type": "code",
   "execution_count": 47,
   "metadata": {},
   "outputs": [
    {
     "ename": "ValueError",
     "evalue": "invalid literal for int() with base 10: ''",
     "output_type": "error",
     "traceback": [
      "\u001b[0;31m---------------------------------------------------------------------------\u001b[0m",
      "\u001b[0;31mValueError\u001b[0m                                Traceback (most recent call last)",
      "\u001b[0;32m/tmp/ipykernel_191072/277865266.py\u001b[0m in \u001b[0;36m<module>\u001b[0;34m\u001b[0m\n\u001b[1;32m      2\u001b[0m \u001b[0;32mfor\u001b[0m \u001b[0mi\u001b[0m \u001b[0;32min\u001b[0m \u001b[0mrange\u001b[0m\u001b[0;34m(\u001b[0m\u001b[0;36m5\u001b[0m\u001b[0;34m)\u001b[0m\u001b[0;34m:\u001b[0m\u001b[0;34m\u001b[0m\u001b[0;34m\u001b[0m\u001b[0m\n\u001b[1;32m      3\u001b[0m     \u001b[0ma\u001b[0m \u001b[0;34m=\u001b[0m \u001b[0minput\u001b[0m\u001b[0;34m(\u001b[0m\u001b[0;34m)\u001b[0m\u001b[0;34m\u001b[0m\u001b[0;34m\u001b[0m\u001b[0m\n\u001b[0;32m----> 4\u001b[0;31m     \u001b[0;32mwhile\u001b[0m\u001b[0;34m(\u001b[0m\u001b[0mint\u001b[0m\u001b[0;34m(\u001b[0m\u001b[0ma\u001b[0m\u001b[0;34m)\u001b[0m\u001b[0;34m>\u001b[0m\u001b[0;36m100\u001b[0m \u001b[0;32mand\u001b[0m \u001b[0mint\u001b[0m\u001b[0;34m(\u001b[0m\u001b[0ma\u001b[0m\u001b[0;34m)\u001b[0m\u001b[0;34m<\u001b[0m\u001b[0;36m0\u001b[0m\u001b[0;34m)\u001b[0m\u001b[0;34m:\u001b[0m\u001b[0;34m\u001b[0m\u001b[0;34m\u001b[0m\u001b[0m\n\u001b[0m\u001b[1;32m      5\u001b[0m         \u001b[0mprint\u001b[0m\u001b[0;34m(\u001b[0m\u001b[0;34m'請輸入正確的數值!'\u001b[0m\u001b[0;34m)\u001b[0m\u001b[0;34m\u001b[0m\u001b[0;34m\u001b[0m\u001b[0m\n\u001b[1;32m      6\u001b[0m \u001b[0mb\u001b[0m\u001b[0;34m.\u001b[0m\u001b[0mappend\u001b[0m\u001b[0;34m(\u001b[0m\u001b[0ma\u001b[0m\u001b[0;34m)\u001b[0m\u001b[0;34m\u001b[0m\u001b[0;34m\u001b[0m\u001b[0m\n",
      "\u001b[0;31mValueError\u001b[0m: invalid literal for int() with base 10: ''"
     ]
    }
   ],
   "source": [
    "b = []\n",
    "for i in range(5):\n",
    "    a = input()\n",
    "    while(int(a)>100 and int(a)<0):\n",
    "        print('請輸入正確的數值!')\n",
    "b.append(a)"
   ]
  },
  {
   "cell_type": "code",
   "execution_count": 46,
   "metadata": {},
   "outputs": [
    {
     "data": {
      "text/plain": [
       "['4']"
      ]
     },
     "execution_count": 46,
     "metadata": {},
     "output_type": "execute_result"
    }
   ],
   "source": [
    "b"
   ]
  },
  {
   "cell_type": "code",
   "execution_count": 30,
   "metadata": {},
   "outputs": [
    {
     "data": {
      "text/plain": [
       "[45.6, 297.8, 354.8]"
      ]
     },
     "execution_count": 30,
     "metadata": {},
     "output_type": "execute_result"
    }
   ],
   "source": [
    "avg_list"
   ]
  },
  {
   "cell_type": "code",
   "execution_count": 25,
   "metadata": {},
   "outputs": [
    {
     "data": {
      "text/plain": [
       "91"
      ]
     },
     "execution_count": 25,
     "metadata": {},
     "output_type": "execute_result"
    }
   ],
   "source": [
    "sum"
   ]
  },
  {
   "cell_type": "code",
   "execution_count": 7,
   "metadata": {},
   "outputs": [
    {
     "data": {
      "text/plain": [
       "['12', '55', '44', '66', '77']"
      ]
     },
     "execution_count": 7,
     "metadata": {},
     "output_type": "execute_result"
    }
   ],
   "source": [
    "a"
   ]
  },
  {
   "cell_type": "code",
   "execution_count": 48,
   "metadata": {},
   "outputs": [
    {
     "name": "stdout",
     "output_type": "stream",
     "text": [
      "1 * 1 = 1 \n",
      "1 * 2 = 2 \n",
      "1 * 3 = 3 \n",
      "1 * 4 = 4 \n",
      "1 * 5 = 5 \n",
      "1 * 6 = 6 \n",
      "1 * 7 = 7 \n",
      "1 * 8 = 8 \n",
      "1 * 9 = 9 \n",
      "\n",
      "\n",
      "2 * 1 = 2 \n",
      "2 * 2 = 4 \n",
      "2 * 3 = 6 \n",
      "2 * 4 = 8 \n",
      "2 * 5 = 10 \n",
      "2 * 6 = 12 \n",
      "2 * 7 = 14 \n",
      "2 * 8 = 16 \n",
      "2 * 9 = 18 \n",
      "\n",
      "\n",
      "3 * 1 = 3 \n",
      "3 * 2 = 6 \n",
      "3 * 3 = 9 \n",
      "3 * 4 = 12 \n",
      "3 * 5 = 15 \n",
      "3 * 6 = 18 \n",
      "3 * 7 = 21 \n",
      "3 * 8 = 24 \n",
      "3 * 9 = 27 \n",
      "\n",
      "\n",
      "4 * 1 = 4 \n",
      "4 * 2 = 8 \n",
      "4 * 3 = 12 \n",
      "4 * 4 = 16 \n",
      "4 * 5 = 20 \n",
      "4 * 6 = 24 \n",
      "4 * 7 = 28 \n",
      "4 * 8 = 32 \n",
      "4 * 9 = 36 \n",
      "\n",
      "\n",
      "5 * 1 = 5 \n",
      "5 * 2 = 10 \n",
      "5 * 3 = 15 \n",
      "5 * 4 = 20 \n",
      "5 * 5 = 25 \n",
      "5 * 6 = 30 \n",
      "5 * 7 = 35 \n",
      "5 * 8 = 40 \n",
      "5 * 9 = 45 \n",
      "\n",
      "\n",
      "6 * 1 = 6 \n",
      "6 * 2 = 12 \n",
      "6 * 3 = 18 \n",
      "6 * 4 = 24 \n",
      "6 * 5 = 30 \n",
      "6 * 6 = 36 \n",
      "6 * 7 = 42 \n",
      "6 * 8 = 48 \n",
      "6 * 9 = 54 \n",
      "\n",
      "\n",
      "7 * 1 = 7 \n",
      "7 * 2 = 14 \n",
      "7 * 3 = 21 \n",
      "7 * 4 = 28 \n",
      "7 * 5 = 35 \n",
      "7 * 6 = 42 \n",
      "7 * 7 = 49 \n",
      "7 * 8 = 56 \n",
      "7 * 9 = 63 \n",
      "\n",
      "\n",
      "8 * 1 = 8 \n",
      "8 * 2 = 16 \n",
      "8 * 3 = 24 \n",
      "8 * 4 = 32 \n",
      "8 * 5 = 40 \n",
      "8 * 6 = 48 \n",
      "8 * 7 = 56 \n",
      "8 * 8 = 64 \n",
      "8 * 9 = 72 \n",
      "\n",
      "\n",
      "9 * 1 = 9 \n",
      "9 * 2 = 18 \n",
      "9 * 3 = 27 \n",
      "9 * 4 = 36 \n",
      "9 * 5 = 45 \n",
      "9 * 6 = 54 \n",
      "9 * 7 = 63 \n",
      "9 * 8 = 72 \n",
      "9 * 9 = 81 \n",
      "\n",
      "\n"
     ]
    }
   ],
   "source": [
    "i=1;\n",
    "while i < 10:\n",
    "    j=1\n",
    "    while j < 10:\n",
    "        s=  i*j\n",
    "        print ('%d * %d = %d ' %(i, j , s))\n",
    "        j += 1\n",
    "\n",
    "    i += 1\n",
    "    print('\\n')"
   ]
  },
  {
   "cell_type": "code",
   "execution_count": 27,
   "metadata": {},
   "outputs": [],
   "source": [
    "hashtag_list_total = ['t', 'styh', 'styh', 'styh', 'erth', 'a', 'bn', 'c', '78578', '786', '5463', 'srtkytshjsdr', 'ersujrth', 'srtyhurt']"
   ]
  },
  {
   "cell_type": "code",
   "execution_count": 12,
   "metadata": {},
   "outputs": [],
   "source": [
    "hashtag_list = ['t', 'styh', 'styh', 'styh', 'erth', 'a']"
   ]
  },
  {
   "cell_type": "code",
   "execution_count": 38,
   "metadata": {},
   "outputs": [],
   "source": [
    "teacher_list = ['5463', 'srtkytshjsdr', 'ersujrth', 'srtyhurt']"
   ]
  },
  {
   "cell_type": "code",
   "execution_count": 39,
   "metadata": {},
   "outputs": [],
   "source": [
    "all_class_list = ['t', 'styh', 'styh', 'styh', 'erth', 'a', 'bn', 'c', '78578', '786']"
   ]
  },
  {
   "cell_type": "code",
   "execution_count": 5,
   "metadata": {},
   "outputs": [
    {
     "data": {
      "text/plain": [
       "1"
      ]
     },
     "execution_count": 5,
     "metadata": {},
     "output_type": "execute_result"
    }
   ],
   "source": [
    "dict.get('styh', 0)"
   ]
  },
  {
   "cell_type": "code",
   "execution_count": 22,
   "metadata": {},
   "outputs": [
    {
     "data": {
      "text/plain": [
       "['t', 'styh', 'erth', 'a']"
      ]
     },
     "execution_count": 22,
     "metadata": {},
     "output_type": "execute_result"
    }
   ],
   "source": [
    "list(set(hashtag_list))"
   ]
  },
  {
   "cell_type": "code",
   "execution_count": null,
   "metadata": {},
   "outputs": [],
   "source": []
  },
  {
   "cell_type": "code",
   "execution_count": 53,
   "metadata": {},
   "outputs": [
    {
     "name": "stdout",
     "output_type": "stream",
     "text": [
      "t\n",
      "['t']\n",
      "styh\n",
      "['t', 'styh']\n",
      "erth\n",
      "['t', 'styh', 'erth']\n",
      "a\n",
      "['t', 'styh', 'erth', 'a']\n"
     ]
    }
   ],
   "source": [
    "a = []\n",
    "for key in list(set(hashtag_list)):\n",
    "    print(key)\n",
    "    a.append(key)\n",
    "    print(a)"
   ]
  },
  {
   "cell_type": "code",
   "execution_count": 65,
   "metadata": {},
   "outputs": [],
   "source": [
    "import json"
   ]
  },
  {
   "cell_type": "code",
   "execution_count": 68,
   "metadata": {},
   "outputs": [],
   "source": [
    "c = json.dumps({'x': 't', 'value': 1, 'category': '自評'})"
   ]
  },
  {
   "cell_type": "code",
   "execution_count": 70,
   "metadata": {},
   "outputs": [
    {
     "data": {
      "text/plain": [
       "'{\"x\": \"t\", \"value\": 1, \"category\": \"\\\\u81ea\\\\u8a55\"}'"
      ]
     },
     "execution_count": 70,
     "metadata": {},
     "output_type": "execute_result"
    }
   ],
   "source": [
    "c"
   ]
  },
  {
   "cell_type": "code",
   "execution_count": 69,
   "metadata": {},
   "outputs": [
    {
     "data": {
      "text/plain": [
       "{'x': 't', 'value': 1, 'category': '自評'}"
      ]
     },
     "execution_count": 69,
     "metadata": {},
     "output_type": "execute_result"
    }
   ],
   "source": [
    "json.loads(c)"
   ]
  },
  {
   "cell_type": "code",
   "execution_count": 73,
   "metadata": {},
   "outputs": [],
   "source": [
    "dict_total = {}\n",
    "dict_total_list = []\n",
    "for key in list(set(hashtag_list)):\n",
    "    # a.count(key)\n",
    "    times = hashtag_list_total.count(key)\n",
    "    # dict_total = {}\n",
    "    # dict_total[\"x\"] = str(key)\n",
    "    # dict_total[\"value\"] = times\n",
    "    # dict_total[\"category\"] = '自評'\n",
    "    dict_total = {\"x\": key, \"value\": times, \"category\": \"自評\"}\n",
    "    # print(dict_total)\n",
    "    dict_total_list.append(dict_total)"
   ]
  },
  {
   "cell_type": "code",
   "execution_count": 74,
   "metadata": {},
   "outputs": [
    {
     "data": {
      "text/plain": [
       "[{'x': 't', 'value': 1, 'category': '自評'},\n",
       " {'x': 'styh', 'value': 3, 'category': '自評'},\n",
       " {'x': 'erth', 'value': 1, 'category': '自評'},\n",
       " {'x': 'a', 'value': 1, 'category': '自評'}]"
      ]
     },
     "execution_count": 74,
     "metadata": {},
     "output_type": "execute_result"
    }
   ],
   "source": [
    "dict_total_list"
   ]
  },
  {
   "cell_type": "code",
   "execution_count": 75,
   "metadata": {},
   "outputs": [],
   "source": [
    "a = json.dumps(dict_total_list)"
   ]
  },
  {
   "cell_type": "code",
   "execution_count": 77,
   "metadata": {},
   "outputs": [
    {
     "data": {
      "text/plain": [
       "str"
      ]
     },
     "execution_count": 77,
     "metadata": {},
     "output_type": "execute_result"
    }
   ],
   "source": [
    "type(a)"
   ]
  },
  {
   "cell_type": "code",
   "execution_count": 78,
   "metadata": {},
   "outputs": [],
   "source": [
    "dict_total_list_dict = {\"0\": dict_total_list}"
   ]
  },
  {
   "cell_type": "code",
   "execution_count": 61,
   "metadata": {},
   "outputs": [
    {
     "name": "stdout",
     "output_type": "stream",
     "text": [
      "[{'x': 't', 'value': 1, 'category': '自評'}, {'x': 'styh', 'value': 3, 'category': '自評'}, {'x': 'erth', 'value': 1, 'category': '自評'}, {'x': 'a', 'value': 1, 'category': '自評'}]\n"
     ]
    }
   ],
   "source": [
    "dict_total = {}\n",
    "dict_total_list = []\n",
    "\n",
    "for key in list(set(hashtag_list)):\n",
    "    # a.count(key)\n",
    "    times = hashtag_list_total.count(key)\n",
    "    dict_total = {}\n",
    "    dict_total[\"x\"] = str(key)\n",
    "    dict_total[\"value\"] = times\n",
    "    dict_total[\"category\"] = '自評'\n",
    "    # print(dict_total)\n",
    "    dict_total_list.append(dict_total)\n",
    "# print(dict_total_list)"
   ]
  },
  {
   "cell_type": "code",
   "execution_count": 62,
   "metadata": {},
   "outputs": [
    {
     "name": "stdout",
     "output_type": "stream",
     "text": [
      "[{'x': 't', 'value': 1, 'category': '自評'}, {'x': 'styh', 'value': 3, 'category': '自評'}, {'x': 'erth', 'value': 1, 'category': '自評'}, {'x': 'a', 'value': 1, 'category': '自評'}, {'x': '78578', 'value': 1, 'category': '全班'}, {'x': 'erth', 'value': 1, 'category': '全班'}, {'x': 'c', 'value': 1, 'category': '全班'}, {'x': 'styh', 'value': 3, 'category': '全班'}, {'x': '786', 'value': 1, 'category': '全班'}, {'x': 't', 'value': 1, 'category': '全班'}, {'x': 'bn', 'value': 1, 'category': '全班'}, {'x': 'a', 'value': 1, 'category': '全班'}]\n"
     ]
    }
   ],
   "source": [
    "for key in list(set(all_class_list)):\n",
    "    # a.count(key)\n",
    "    times = hashtag_list_total.count(key)\n",
    "    dict_total = {}\n",
    "    dict_total[\"x\"] = key\n",
    "    dict_total[\"value\"] = times\n",
    "    dict_total[\"category\"] = '全班'\n",
    "    dict_total_list.append(dict_total)\n",
    "# print(dict_total_list)"
   ]
  },
  {
   "cell_type": "code",
   "execution_count": 63,
   "metadata": {},
   "outputs": [
    {
     "name": "stdout",
     "output_type": "stream",
     "text": [
      "[{'x': 't', 'value': 1, 'category': '自評'}, {'x': 'styh', 'value': 3, 'category': '自評'}, {'x': 'erth', 'value': 1, 'category': '自評'}, {'x': 'a', 'value': 1, 'category': '自評'}, {'x': '78578', 'value': 1, 'category': '全班'}, {'x': 'erth', 'value': 1, 'category': '全班'}, {'x': 'c', 'value': 1, 'category': '全班'}, {'x': 'styh', 'value': 3, 'category': '全班'}, {'x': '786', 'value': 1, 'category': '全班'}, {'x': 't', 'value': 1, 'category': '全班'}, {'x': 'bn', 'value': 1, 'category': '全班'}, {'x': 'a', 'value': 1, 'category': '全班'}, {'x': 'ersujrth', 'value': 1, 'category': '老師'}, {'x': 'srtyhurt', 'value': 1, 'category': '老師'}, {'x': '5463', 'value': 1, 'category': '老師'}, {'x': 'srtkytshjsdr', 'value': 1, 'category': '老師'}]\n"
     ]
    }
   ],
   "source": [
    "for key in list(set(teacher_list)):\n",
    "    # a.count(key)\n",
    "    times = hashtag_list_total.count(key)\n",
    "    dict_total = {}\n",
    "    dict_total[\"x\"] = key\n",
    "    dict_total[\"value\"] = times\n",
    "    dict_total[\"category\"] = '老師'\n",
    "    dict_total_list.append(dict_total)\n",
    "# print(dict_total_list)"
   ]
  },
  {
   "cell_type": "code",
   "execution_count": 29,
   "metadata": {},
   "outputs": [
    {
     "data": {
      "text/plain": [
       "{'x': 'a', 'value': 1}"
      ]
     },
     "execution_count": 29,
     "metadata": {},
     "output_type": "execute_result"
    }
   ],
   "source": [
    "dict_total"
   ]
  },
  {
   "cell_type": "code",
   "execution_count": 19,
   "metadata": {},
   "outputs": [],
   "source": [
    "dict_total = {}\n",
    "for item in list(set(hashtag_list)):\n",
    "    dict_total[\"value\"] = times"
   ]
  },
  {
   "cell_type": "code",
   "execution_count": 24,
   "metadata": {},
   "outputs": [
    {
     "data": {
      "text/plain": [
       "{'x': 'a', 'value': 1}"
      ]
     },
     "execution_count": 24,
     "metadata": {},
     "output_type": "execute_result"
    }
   ],
   "source": [
    "dict_total"
   ]
  },
  {
   "cell_type": "code",
   "execution_count": 3,
   "metadata": {},
   "outputs": [
    {
     "name": "stdout",
     "output_type": "stream",
     "text": [
      "{'t': 1, 'styh': 1, 'erth': 1, 'a': 1, 'bn': 1, 'c': 1, '78578': 1, '786': 1, '5463': 1, 'srtkytshjsdr': 1, 'ersujrth': 1, 'srtyhurt': 1}\n"
     ]
    }
   ],
   "source": [
    "dict = {}\n",
    "for key in a:\n",
    "    dict[key] = dict.get(key, 0) + 1\n",
    "print(dict)"
   ]
  },
  {
   "cell_type": "code",
   "execution_count": 6,
   "metadata": {},
   "outputs": [
    {
     "name": "stdout",
     "output_type": "stream",
     "text": [
      "Counter({'t': 1, 'styh': 1, 'erth': 1, 'a': 1, 'bn': 1, 'c': 1, '78578': 1, '786': 1, '5463': 1, 'srtkytshjsdr': 1, 'ersujrth': 1, 'srtyhurt': 1})\n"
     ]
    }
   ],
   "source": [
    "from collections import Counter\n",
    "result = Counter(a)\n",
    "print(result)"
   ]
  }
 ],
 "metadata": {
  "kernelspec": {
   "display_name": "Python 3.7.13 ('py37_flask': conda)",
   "language": "python",
   "name": "python3"
  },
  "language_info": {
   "codemirror_mode": {
    "name": "ipython",
    "version": 3
   },
   "file_extension": ".py",
   "mimetype": "text/x-python",
   "name": "python",
   "nbconvert_exporter": "python",
   "pygments_lexer": "ipython3",
   "version": "3.7.13"
  },
  "orig_nbformat": 4,
  "vscode": {
   "interpreter": {
    "hash": "999918aa8024262a49d7e6ee19e7f8061887c36aa12b22f446c3e7e791f3f187"
   }
  }
 },
 "nbformat": 4,
 "nbformat_minor": 2
}
