{
 "cells": [
  {
   "cell_type": "code",
   "execution_count": null,
   "metadata": {},
   "outputs": [],
   "source": []
  },
  {
   "cell_type": "code",
   "execution_count": 1,
   "metadata": {},
   "outputs": [
    {
     "ename": "NameError",
     "evalue": "name 'ImmutableMultiDict' is not defined",
     "output_type": "error",
     "traceback": [
      "\u001b[0;31m---------------------------------------------------------------------------\u001b[0m",
      "\u001b[0;31mNameError\u001b[0m                                 Traceback (most recent call last)",
      "\u001b[0;32m/tmp/ipykernel_452336/3086846143.py\u001b[0m in \u001b[0;36m<module>\u001b[0;34m\u001b[0m\n\u001b[0;32m----> 1\u001b[0;31m \u001b[0mImmutableMultiDict\u001b[0m\u001b[0;34m(\u001b[0m\u001b[0;34m[\u001b[0m\u001b[0;34m(\u001b[0m\u001b[0;34m'alpaca_name'\u001b[0m\u001b[0;34m,\u001b[0m \u001b[0;34m'0'\u001b[0m\u001b[0;34m)\u001b[0m\u001b[0;34m,\u001b[0m \u001b[0;34m(\u001b[0m\u001b[0;34m'training'\u001b[0m\u001b[0;34m,\u001b[0m \u001b[0;34m'0'\u001b[0m\u001b[0;34m)\u001b[0m\u001b[0;34m,\u001b[0m \u001b[0;34m(\u001b[0m\u001b[0;34m'date'\u001b[0m\u001b[0;34m,\u001b[0m \u001b[0;34m'0'\u001b[0m\u001b[0;34m)\u001b[0m\u001b[0;34m,\u001b[0m \u001b[0;34m(\u001b[0m\u001b[0;34m'date'\u001b[0m\u001b[0;34m,\u001b[0m \u001b[0;34m'0'\u001b[0m\u001b[0;34m)\u001b[0m\u001b[0;34m,\u001b[0m \u001b[0;34m(\u001b[0m\u001b[0;34m'date'\u001b[0m\u001b[0;34m,\u001b[0m \u001b[0;34m'0'\u001b[0m\u001b[0;34m)\u001b[0m\u001b[0;34m,\u001b[0m \u001b[0;34m(\u001b[0m\u001b[0;34m'date'\u001b[0m\u001b[0;34m,\u001b[0m \u001b[0;34m'0'\u001b[0m\u001b[0;34m)\u001b[0m\u001b[0;34m,\u001b[0m \u001b[0;34m(\u001b[0m\u001b[0;34m'date'\u001b[0m\u001b[0;34m,\u001b[0m \u001b[0;34m'0'\u001b[0m\u001b[0;34m)\u001b[0m\u001b[0;34m,\u001b[0m \u001b[0;34m(\u001b[0m\u001b[0;34m'date'\u001b[0m\u001b[0;34m,\u001b[0m \u001b[0;34m'0'\u001b[0m\u001b[0;34m)\u001b[0m\u001b[0;34m,\u001b[0m \u001b[0;34m(\u001b[0m\u001b[0;34m'date'\u001b[0m\u001b[0;34m,\u001b[0m \u001b[0;34m'0'\u001b[0m\u001b[0;34m)\u001b[0m\u001b[0;34m,\u001b[0m \u001b[0;34m(\u001b[0m\u001b[0;34m'date'\u001b[0m\u001b[0;34m,\u001b[0m \u001b[0;34m'0'\u001b[0m\u001b[0;34m)\u001b[0m\u001b[0;34m,\u001b[0m \u001b[0;34m(\u001b[0m\u001b[0;34m'date'\u001b[0m\u001b[0;34m,\u001b[0m \u001b[0;34m'0'\u001b[0m\u001b[0;34m)\u001b[0m\u001b[0;34m]\u001b[0m\u001b[0;34m)\u001b[0m\u001b[0;34m\u001b[0m\u001b[0;34m\u001b[0m\u001b[0m\n\u001b[0m",
      "\u001b[0;31mNameError\u001b[0m: name 'ImmutableMultiDict' is not defined"
     ]
    }
   ],
   "source": [
    "ImmutableMultiDict([('alpaca_name', '0'), ('training', '0'), ('date', '0'), ('date', '0'), ('date', '0'), ('date', '0'), ('date', '0'), ('date', '0'), ('date', '0'), ('date', '0'), ('date', '0')])"
   ]
  },
  {
   "cell_type": "code",
   "execution_count": 2,
   "metadata": {},
   "outputs": [],
   "source": [
    "\n",
    "from flask import Flask, request, render_template, url_for, redirect, flash\n",
    "from flask_restful import Resource, Api\n",
    "from flask_login import LoginManager, UserMixin, login_user, logout_user, login_required, current_user\n",
    "import requests, json, glob, time\n",
    "#import pandas as pd\n",
    "import numpy as np\n",
    "from backend.user import *\n",
    "from backend.course import get_dict_course,check_repeat_course,trans_course\n",
    "from backend.question import *\n",
    "import pymysql\n",
    "conn = pymysql.connect(host = '127.0.0.1',\n",
    "                       port = 3306,\n",
    "                       user = 'qsweb',\n",
    "                       passwd = '000000',\n",
    "                       db = 'question_system',\n",
    "                       charset='utf8')"
   ]
  },
  {
   "cell_type": "code",
   "execution_count": 2,
   "metadata": {},
   "outputs": [],
   "source": [
    "cur = conn.cursor()\n",
    "\n",
    "# get annual sales rank\n",
    "sql = \"select * from users\"\n",
    "cur.execute(sql)\n",
    "content = cur.fetchall()\n",
    "\n",
    "# 獲取表頭\n",
    "sql = \"SHOW FIELDS FROM users\"\n",
    "cur.execute(sql)\n",
    "labels = cur.fetchall()\n",
    "labels = [l[0] for l in labels]"
   ]
  },
  {
   "cell_type": "code",
   "execution_count": 5,
   "metadata": {},
   "outputs": [
    {
     "data": {
      "text/plain": [
       "((35,\n",
       "  '0000',\n",
       "  'test_name',\n",
       "  'test_school',\n",
       "  'test_class',\n",
       "  'test_id0',\n",
       "  'a@b.c',\n",
       "  'student',\n",
       "  'test_nickname'),\n",
       " (36,\n",
       "  '0000',\n",
       "  'test_name',\n",
       "  'test_school',\n",
       "  'test_class',\n",
       "  'test_idstudent0',\n",
       "  'a@b.c',\n",
       "  'student',\n",
       "  'tst_nickname'),\n",
       " (37,\n",
       "  '111',\n",
       "  'test_name',\n",
       "  'test_school',\n",
       "  'test_class',\n",
       "  'test_id0teacher',\n",
       "  'a@b.c',\n",
       "  'teacher',\n",
       "  'tst_nickname'),\n",
       " (38,\n",
       "  '0000',\n",
       "  'test_name',\n",
       "  'test_schoo',\n",
       "  'test_class',\n",
       "  'test_id0',\n",
       "  'yf.jeff.liu@gmail.com',\n",
       "  'student',\n",
       "  'tst_nickname'),\n",
       " (39,\n",
       "  '0000',\n",
       "  'test_name',\n",
       "  'test_school',\n",
       "  'test_classs',\n",
       "  'test_id0',\n",
       "  'yf.jeff.liu@gmail.com',\n",
       "  'student',\n",
       "  'tst_nickname'))"
      ]
     },
     "execution_count": 5,
     "metadata": {},
     "output_type": "execute_result"
    }
   ],
   "source": [
    "content"
   ]
  },
  {
   "cell_type": "code",
   "execution_count": 4,
   "metadata": {},
   "outputs": [
    {
     "data": {
      "text/plain": [
       "['id',\n",
       " 'passwd',\n",
       " 'name',\n",
       " 'school',\n",
       " 'class',\n",
       " 'student_id',\n",
       " 'email',\n",
       " 'permission',\n",
       " 'nickname']"
      ]
     },
     "execution_count": 4,
     "metadata": {},
     "output_type": "execute_result"
    }
   ],
   "source": [
    "labels"
   ]
  },
  {
   "cell_type": "code",
   "execution_count": 17,
   "metadata": {},
   "outputs": [],
   "source": [
    "conn = pymysql.connect(host = '127.0.0.1',\n",
    "                       port = 3306,\n",
    "                       user = 'qsweb',\n",
    "                       passwd = '000000',\n",
    "                       db = 'question_system',\n",
    "                       charset='utf8')\n",
    "cur = conn.cursor()\n",
    "sql = \"select * from guidance\"\n",
    "cur.execute(sql)\n",
    "content = cur.fetchall()\n",
    "dict = {}\n",
    "for data in content:\n",
    "    #print(data)\n",
    "    dict[data[6]] = {'EN_description':data[0],'CN_description':data[1],'EN_example':data[2],'CN_example':data[3],'course_id':data[4],'status':data[5],'guidance_id':data[6]}"
   ]
  },
  {
   "cell_type": "code",
   "execution_count": 18,
   "metadata": {},
   "outputs": [
    {
     "data": {
      "text/plain": [
       "{'EN_description': 'EN_description',\n",
       " 'CN_description': 'CN_description',\n",
       " 'EN_example': 'EN_example',\n",
       " 'CN_example': 'CN_example',\n",
       " 'course_id': 7,\n",
       " 'status': 0,\n",
       " 'guidance_id': 1}"
      ]
     },
     "execution_count": 18,
     "metadata": {},
     "output_type": "execute_result"
    }
   ],
   "source": [
    "dict[1]"
   ]
  },
  {
   "cell_type": "code",
   "execution_count": 3,
   "metadata": {},
   "outputs": [
    {
     "ename": "TypeError",
     "evalue": "'type' object is not iterable",
     "output_type": "error",
     "traceback": [
      "\u001b[0;31m---------------------------------------------------------------------------\u001b[0m",
      "\u001b[0;31mTypeError\u001b[0m                                 Traceback (most recent call last)",
      "\u001b[0;32m/tmp/ipykernel_77986/1132644913.py\u001b[0m in \u001b[0;36m<module>\u001b[0;34m\u001b[0m\n\u001b[0;32m----> 1\u001b[0;31m \u001b[0;32mfor\u001b[0m \u001b[0ma\u001b[0m \u001b[0;32min\u001b[0m \u001b[0mdict\u001b[0m\u001b[0;34m:\u001b[0m\u001b[0;34m\u001b[0m\u001b[0;34m\u001b[0m\u001b[0m\n\u001b[0m\u001b[1;32m      2\u001b[0m     \u001b[0mprint\u001b[0m\u001b[0;34m(\u001b[0m\u001b[0mdict\u001b[0m\u001b[0;34m[\u001b[0m\u001b[0ma\u001b[0m\u001b[0;34m]\u001b[0m\u001b[0;34m)\u001b[0m\u001b[0;34m\u001b[0m\u001b[0;34m\u001b[0m\u001b[0m\n",
      "\u001b[0;31mTypeError\u001b[0m: 'type' object is not iterable"
     ]
    }
   ],
   "source": [
    "for a in dict:\n",
    "    print(dict[a])"
   ]
  },
  {
   "cell_type": "code",
   "execution_count": 4,
   "metadata": {},
   "outputs": [],
   "source": [
    "conn = pymysql.connect(host = '127.0.0.1',\n",
    "                       port = 3306,\n",
    "                       user = 'qsweb',\n",
    "                       passwd = '000000',\n",
    "                       db = 'question_system',\n",
    "                       charset='utf8')\n",
    "    # cur = conn.cursor()\n",
    "    "
   ]
  },
  {
   "cell_type": "code",
   "execution_count": 6,
   "metadata": {},
   "outputs": [],
   "source": [
    "cursor = conn.cursor()\n",
    "    ## 還原圖片\n",
    "\n",
    "into = \"SELECT * FROM `question` WHERE `id` = 14\"\n",
    "    \n",
    "cursor.execute(into)\n",
    "content = cursor.fetchall()\n"
   ]
  },
  {
   "cell_type": "code",
   "execution_count": null,
   "metadata": {},
   "outputs": [],
   "source": [
    "content[0][4]"
   ]
  },
  {
   "cell_type": "code",
   "execution_count": 16,
   "metadata": {},
   "outputs": [
    {
     "name": "stderr",
     "output_type": "stream",
     "text": [
      "/home/eric/anaconda3/envs/py37_flask/lib/python3.7/site-packages/ipykernel_launcher.py:3: DeprecationWarning: The binary mode of fromstring is deprecated, as it behaves surprisingly on unicode inputs. Use frombuffer instead\n",
      "  This is separate from the ipykernel package so we can avoid doing imports until\n"
     ]
    },
    {
     "ename": "error",
     "evalue": "OpenCV(4.6.0) /io/opencv/modules/imgcodecs/src/loadsave.cpp:801: error: (-215:Assertion failed) !_img.empty() in function 'imwrite'\n",
     "output_type": "error",
     "traceback": [
      "\u001b[0;31m---------------------------------------------------------------------------\u001b[0m",
      "\u001b[0;31merror\u001b[0m                                     Traceback (most recent call last)",
      "\u001b[0;32m/tmp/ipykernel_77986/2714845826.py\u001b[0m in \u001b[0;36m<module>\u001b[0;34m\u001b[0m\n\u001b[1;32m      4\u001b[0m \u001b[0mimg\u001b[0m \u001b[0;34m=\u001b[0m \u001b[0mcv2\u001b[0m\u001b[0;34m.\u001b[0m\u001b[0mimdecode\u001b[0m\u001b[0;34m(\u001b[0m\u001b[0mnpimg\u001b[0m\u001b[0;34m,\u001b[0m \u001b[0mcv2\u001b[0m\u001b[0;34m.\u001b[0m\u001b[0mIMREAD_COLOR\u001b[0m\u001b[0;34m)\u001b[0m\u001b[0;34m\u001b[0m\u001b[0;34m\u001b[0m\u001b[0m\n\u001b[1;32m      5\u001b[0m \u001b[0;31m# cv2.imshow('URL2Image',img)\u001b[0m\u001b[0;34m\u001b[0m\u001b[0;34m\u001b[0m\u001b[0;34m\u001b[0m\u001b[0m\n\u001b[0;32m----> 6\u001b[0;31m \u001b[0mcv2\u001b[0m\u001b[0;34m.\u001b[0m\u001b[0mimwrite\u001b[0m\u001b[0;34m(\u001b[0m\u001b[0;34m'123.jpg'\u001b[0m\u001b[0;34m,\u001b[0m\u001b[0mimg\u001b[0m\u001b[0;34m)\u001b[0m\u001b[0;34m\u001b[0m\u001b[0;34m\u001b[0m\u001b[0m\n\u001b[0m\u001b[1;32m      7\u001b[0m \u001b[0;31m# cv2.waitKey()\u001b[0m\u001b[0;34m\u001b[0m\u001b[0;34m\u001b[0m\u001b[0;34m\u001b[0m\u001b[0m\n",
      "\u001b[0;31merror\u001b[0m: OpenCV(4.6.0) /io/opencv/modules/imgcodecs/src/loadsave.cpp:801: error: (-215:Assertion failed) !_img.empty() in function 'imwrite'\n"
     ]
    }
   ],
   "source": [
    "# pic = content[0][4]\n",
    "# picstr = pic['image'].read()\n",
    "npimg = np.fromstring(content[0][4], np.uint8)\n",
    "img = cv2.imdecode(npimg, cv2.IMREAD_COLOR)\n",
    "# cv2.imshow('URL2Image',img)   \n",
    "cv2.imwrite('123.jpg',img)\n",
    "# cv2.waitKey()"
   ]
  },
  {
   "cell_type": "code",
   "execution_count": 19,
   "metadata": {},
   "outputs": [
    {
     "name": "stderr",
     "output_type": "stream",
     "text": [
      "/home/eric/anaconda3/envs/py37_flask/lib/python3.7/site-packages/ipykernel_launcher.py:1: DeprecationWarning: The binary mode of fromstring is deprecated, as it behaves surprisingly on unicode inputs. Use frombuffer instead\n",
      "  \"\"\"Entry point for launching an IPython kernel.\n"
     ]
    },
    {
     "data": {
      "text/plain": [
       "array([98, 39, 92, ..., 56, 50, 39], dtype=uint8)"
      ]
     },
     "execution_count": 19,
     "metadata": {},
     "output_type": "execute_result"
    }
   ],
   "source": [
    "np.fromstring(content[0][4], np.uint8)"
   ]
  },
  {
   "cell_type": "code",
   "execution_count": 23,
   "metadata": {},
   "outputs": [],
   "source": [
    "cv2.imdecode(npimg, cv2.IMREAD_COLOR)"
   ]
  },
  {
   "cell_type": "code",
   "execution_count": 21,
   "metadata": {},
   "outputs": [],
   "source": [
    "img = cv2.imdecode(npimg, cv2.IMREAD_COLOR)"
   ]
  },
  {
   "cell_type": "code",
   "execution_count": 22,
   "metadata": {},
   "outputs": [],
   "source": [
    "img"
   ]
  },
  {
   "cell_type": "code",
   "execution_count": 24,
   "metadata": {},
   "outputs": [],
   "source": [
    "import base64"
   ]
  },
  {
   "cell_type": "code",
   "execution_count": null,
   "metadata": {},
   "outputs": [],
   "source": []
  },
  {
   "cell_type": "code",
   "execution_count": 28,
   "metadata": {},
   "outputs": [
    {
     "data": {
      "text/plain": [
       "b'<\\xd1\\x88\\x1c4f\\x1c\\xf2\\xd3\\x12V\\xe6iOp\\x85\\x02\\'r;\\xe9$\\x1e2\\xcb,\\xd9A\\xa0a\\x8a\\x8b\\x8aq\\xfb\\xaa\\x8d{\\x8c0\\xce8\\xe3\\xde\\x8fI\\xb7l~6\\x8f`\\xe2\\xfa\\x0cp}(\\x8f]me\\x12\\x07\\xf4\\x7fE\\xf4\\x85\\xd3RW\\x03\\xee\\xfc\\xe4\\x82P\\xe3\\xcfH\\x0c\\x04\\xf1\"V\\xdf\\xbb\\xbc\\xf0bs\\xcc\\xbf\\x1cwPn'"
      ]
     },
     "execution_count": 28,
     "metadata": {},
     "output_type": "execute_result"
    }
   ],
   "source": [
    "decoded_data"
   ]
  }
 ],
 "metadata": {
  "kernelspec": {
   "display_name": "Python 3.7.13 ('py37_flask': conda)",
   "language": "python",
   "name": "python3"
  },
  "language_info": {
   "codemirror_mode": {
    "name": "ipython",
    "version": 3
   },
   "file_extension": ".py",
   "mimetype": "text/x-python",
   "name": "python",
   "nbconvert_exporter": "python",
   "pygments_lexer": "ipython3",
   "version": "3.7.13"
  },
  "orig_nbformat": 4,
  "vscode": {
   "interpreter": {
    "hash": "999918aa8024262a49d7e6ee19e7f8061887c36aa12b22f446c3e7e791f3f187"
   }
  }
 },
 "nbformat": 4,
 "nbformat_minor": 2
}
